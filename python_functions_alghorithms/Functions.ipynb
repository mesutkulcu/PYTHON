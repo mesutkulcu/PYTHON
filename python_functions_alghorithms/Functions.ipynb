{
  "nbformat": 4,
  "nbformat_minor": 0,
  "metadata": {
    "colab": {
      "name": "Functions.ipynb",
      "provenance": [],
      "collapsed_sections": []
    },
    "kernelspec": {
      "name": "python3",
      "display_name": "Python 3"
    },
    "language_info": {
      "name": "python"
    }
  },
  "cells": [
    {
      "cell_type": "code",
      "metadata": {
        "colab": {
          "base_uri": "https://localhost:8080/"
        },
        "id": "xVCouN8SEw6n",
        "outputId": "7d5c5fe8-c6ba-4cfe-c0e6-0d15ded8fcc2"
      },
      "source": [
        "liste1 = [1, 3, 8, 5]\n",
        "def kare_al(x) :\n",
        "  return x * x\n",
        "bos_liste = []\n",
        "for i in liste1 :\n",
        "  bos_liste.append(kare_al(i))\n",
        "print(bos_liste)  "
      ],
      "execution_count": null,
      "outputs": [
        {
          "output_type": "stream",
          "text": [
            "[1, 9, 64, 25]\n"
          ],
          "name": "stdout"
        }
      ]
    },
    {
      "cell_type": "code",
      "metadata": {
        "colab": {
          "base_uri": "https://localhost:8080/"
        },
        "id": "PHJrZBOPFB9S",
        "outputId": "9beb7631-cfd9-491e-d5c8-b139069a382a"
      },
      "source": [
        "def my_function(a, b):\n",
        "    hypotenuse = (a**2 + b**2)**0.5\n",
        "    return hypotenuse\n",
        "my_function(10, 20)    \n"
      ],
      "execution_count": null,
      "outputs": [
        {
          "output_type": "execute_result",
          "data": {
            "text/plain": [
              "22.360679774997898"
            ]
          },
          "metadata": {},
          "execution_count": 2
        }
      ]
    },
    {
      "cell_type": "code",
      "metadata": {
        "colab": {
          "base_uri": "https://localhost:8080/"
        },
        "id": "xrrQkaJuFFf_",
        "outputId": "6c08155b-8bd8-4f3b-be42-f9807f4f0def"
      },
      "source": [
        "def who(first, last) :  # 'first' and 'last' are the parameters(or variables)\n",
        "    print('Your first name is :', first)\n",
        "    print('Your last name is :', last)\n",
        "\n",
        "who('Guido', 'van Rossum')  # 'Guido' and 'van Rossum' are the arguments\n",
        "print()\n",
        "who('Marry', 'Bold')  # 'Marry' and 'Bold' are also the arguments"
      ],
      "execution_count": null,
      "outputs": [
        {
          "output_type": "stream",
          "text": [
            "Your first name is : Guido\n",
            "Your last name is : van Rossum\n",
            "\n",
            "Your first name is : Marry\n",
            "Your last name is : Bold\n"
          ],
          "name": "stdout"
        }
      ]
    },
    {
      "cell_type": "code",
      "metadata": {
        "id": "B-3R9XCjaiaF",
        "colab": {
          "base_uri": "https://localhost:8080/"
        },
        "outputId": "4a3a6493-040c-497c-9444-aaece80394c4"
      },
      "source": [
        "def letter_count(s):\n",
        "  dic_letter = {}\n",
        "  for i in s:\n",
        "    if i in dic_letter :\n",
        "      dic_letter[i] += 1\n",
        "    else:\n",
        "      dic_letter[i] = 1\n",
        "  print(dic_letter)\n",
        "letter_count(\"hippo runs to us!\")"
      ],
      "execution_count": null,
      "outputs": [
        {
          "output_type": "stream",
          "text": [
            "{'h': 1, 'i': 1, 'p': 2, 'o': 2, ' ': 3, 'r': 1, 'u': 2, 'n': 1, 's': 2, 't': 1, '!': 1}\n"
          ],
          "name": "stdout"
        }
      ]
    },
    {
      "cell_type": "code",
      "metadata": {
        "id": "07M5OE6iFUMP",
        "colab": {
          "base_uri": "https://localhost:8080/"
        },
        "outputId": "3c78f6b4-6c95-43d6-cb44-2c8e53d30e57"
      },
      "source": [
        "def city(continent = \"USA\", city = \"Wisconsin\") :\n",
        "  print(continent,  \"in\", city)\n",
        "city(\"Europe\", \"Austria\")  \n"
      ],
      "execution_count": null,
      "outputs": [
        {
          "output_type": "stream",
          "text": [
            "Europe in Austria\n"
          ],
          "name": "stdout"
        }
      ]
    },
    {
      "cell_type": "code",
      "metadata": {
        "colab": {
          "base_uri": "https://localhost:8080/"
        },
        "id": "6CDsqMrHo3I7",
        "outputId": "839e1e15-35d1-4267-915a-272e9169bb8b"
      },
      "source": [
        "def fruiterer(fruit1, fruit2) :\n",
        "  print(\"I wanna get\", fruit2, \"and\", fruit1)\n",
        "fruiterer(\"banana\", \"orange\")  \n"
      ],
      "execution_count": null,
      "outputs": [
        {
          "output_type": "stream",
          "text": [
            "I wanna get orange and banana\n"
          ],
          "name": "stdout"
        }
      ]
    },
    {
      "cell_type": "code",
      "metadata": {
        "colab": {
          "base_uri": "https://localhost:8080/"
        },
        "id": "UtvZ7mhQsWrt",
        "outputId": "edef5f69-411e-4404-87fd-16843af63958"
      },
      "source": [
        "def meyve(*meyve1) :\n",
        "  print(\"ben {} almak istiyorum\".format(meyve1))\n",
        "  for i in meyve1 :\n",
        "    print(\"-\", i)\n",
        "meyve(\"muz\", \"Elma\", \"portakal\")  "
      ],
      "execution_count": null,
      "outputs": [
        {
          "output_type": "stream",
          "text": [
            "ben ('muz', 'Elma', 'portakal') almak istiyorum\n",
            "- muz\n",
            "- Elma\n",
            "- portakal\n"
          ],
          "name": "stdout"
        }
      ]
    },
    {
      "cell_type": "code",
      "metadata": {
        "colab": {
          "base_uri": "https://localhost:8080/"
        },
        "id": "1AIsGPl9tpLs",
        "outputId": "ff68b256-1003-42e0-9736-321a8de79f60"
      },
      "source": [
        "def fruiterer(*fruit) :\n",
        "    print('I want to get :')\n",
        "    for i in fruit :\n",
        "        print('-', i)\n",
        "        \n",
        "fruiterer('orange', 'banana', 'melon', 'ananas')"
      ],
      "execution_count": null,
      "outputs": [
        {
          "output_type": "stream",
          "text": [
            "I want to get :\n",
            "- orange\n",
            "- banana\n",
            "- melon\n",
            "- ananas\n"
          ],
          "name": "stdout"
        }
      ]
    },
    {
      "cell_type": "code",
      "metadata": {
        "colab": {
          "base_uri": "https://localhost:8080/"
        },
        "id": "gsw9OW-SwzHl",
        "outputId": "7f587d43-75c5-4497-9918-daa2cb5df83d"
      },
      "source": [
        "def animals(**kwargs):\n",
        "    for key, value in kwargs.items():\n",
        "        print(value, \"are\", key)\n",
        " \n",
        "animals(Carnivores=\"Lions\", Omnivores=\"Bears\", Herbivores=\"Deers\", Nomnivores=\"Human\")"
      ],
      "execution_count": null,
      "outputs": [
        {
          "output_type": "stream",
          "text": [
            "Lions are Carnivores\n",
            "Bears are Omnivores\n",
            "Deers are Herbivores\n",
            "Human are Nomnivores\n"
          ],
          "name": "stdout"
        }
      ]
    },
    {
      "cell_type": "code",
      "metadata": {
        "colab": {
          "base_uri": "https://localhost:8080/"
        },
        "id": "n1qevAaYw8ZQ",
        "outputId": "4deb6cb3-cf28-42ec-e056-34c5b2d2c27e"
      },
      "source": [
        "def brothers(bro1, bro2, bro3) :\n",
        "  print(\"here are the brothers\")\n",
        "\n",
        "  print(bro1, bro2, bro3)\n",
        "\n",
        "\n",
        "family = [\"mesut\", \"omer\", \"burhan\"]  \n",
        "brothers(*family)"
      ],
      "execution_count": null,
      "outputs": [
        {
          "output_type": "stream",
          "text": [
            "here are the brothers\n",
            "mesut omer burhan\n"
          ],
          "name": "stdout"
        }
      ]
    },
    {
      "cell_type": "code",
      "metadata": {
        "colab": {
          "base_uri": "https://localhost:8080/"
        },
        "id": "yx3Jbjez1Ev3",
        "outputId": "d455bd3c-71c4-49b2-b8a5-a731bb6d85f6"
      },
      "source": [
        "def san(x):\n",
        "  print(x+1)\n",
        "  x=-2\n",
        "  x=4\n",
        "san(12)"
      ],
      "execution_count": null,
      "outputs": [
        {
          "output_type": "stream",
          "text": [
            "13\n"
          ],
          "name": "stdout"
        }
      ]
    },
    {
      "cell_type": "code",
      "metadata": {
        "colab": {
          "base_uri": "https://localhost:8080/"
        },
        "id": "ntfUAae31SSK",
        "outputId": "58a9de1e-8170-4af5-8489-7c8c4544a35a"
      },
      "source": [
        "def foo(fname, val):\n",
        "  print(fname(val))\n",
        "foo(max, [1, 2, 3])\n",
        "foo(min, [1, 2, 3]) "
      ],
      "execution_count": null,
      "outputs": [
        {
          "output_type": "stream",
          "text": [
            "3\n",
            "1\n"
          ],
          "name": "stdout"
        }
      ]
    },
    {
      "cell_type": "code",
      "metadata": {
        "id": "i3S0Sd6ce_Pw",
        "colab": {
          "base_uri": "https://localhost:8080/"
        },
        "outputId": "5b90cafb-6801-40ca-89d0-e9f3a3f9db3c"
      },
      "source": [
        "def make_sentence(**kwargs):\n",
        "    result = \"\"\n",
        "    # Iterating over the Python kwargs dictionary\n",
        "    for i in kwargs.values():\n",
        "        result += i\n",
        "    return result\n",
        "\n",
        "print(make_sentence(a=\"I \", b=\"love \", c=\"Clarusway!\"))"
      ],
      "execution_count": null,
      "outputs": [
        {
          "output_type": "stream",
          "name": "stdout",
          "text": [
            "I love Clarusway!\n"
          ]
        }
      ]
    },
    {
      "cell_type": "code",
      "metadata": {
        "colab": {
          "base_uri": "https://localhost:8080/"
        },
        "id": "kR0N2jKpFbzN",
        "outputId": "4232513f-a2d3-45a4-e7bb-00f270af4258"
      },
      "source": [
        "vowel_list = ['a', 'e', 'i', 'o', 'u']\n",
        "first_ten = ['a', 'b', 'c', 'd', 'e', 'f', 'g', 'h', 'i', 'j']\n",
        "  \n",
        "vowels = filter(lambda x: True if x in vowel_list else False, first_ten) \n",
        "\n",
        "print('Vowels are :', list(vowels))"
      ],
      "execution_count": null,
      "outputs": [
        {
          "output_type": "stream",
          "name": "stdout",
          "text": [
            "Vowels are : ['a', 'e', 'i']\n"
          ]
        }
      ]
    },
    {
      "cell_type": "code",
      "metadata": {
        "colab": {
          "base_uri": "https://localhost:8080/"
        },
        "id": "sHhfD7v6P9fT",
        "outputId": "6487eed5-e3df-4bbf-8d63-d32ad0a4b652"
      },
      "source": [
        "def modular_function(n):\n",
        "    return lambda x: x ** n\n",
        "    \n",
        "power_of_2 = modular_function(2)  # first sub-function derived from def\n",
        "power_of_3 = modular_function(3)  # second sub-function derived from def\n",
        "power_of_4 = modular_function(4)  # third sub-function derived from def\n",
        "\n",
        "print(power_of_2(2))  # 2 to the power of 2\n",
        "print(power_of_3(2))  # 2 to the power of 3\n",
        "print(power_of_4(2))  # 2 to the power of 4"
      ],
      "execution_count": null,
      "outputs": [
        {
          "output_type": "stream",
          "name": "stdout",
          "text": [
            "4\n",
            "8\n",
            "16\n"
          ]
        }
      ]
    },
    {
      "cell_type": "code",
      "metadata": {
        "id": "AnQRP9q2Rb8T",
        "colab": {
          "base_uri": "https://localhost:8080/"
        },
        "outputId": "e501809a-574d-40d7-c9be-3722d89e0cd9"
      },
      "source": [
        "number_list=[1, 2, 3, 4, 5, 6, 7, 8, 9, 10]\n",
        "\n",
        "result= list(filter(lambda x : x % 2 != 0 , number_list)) \n",
        "print(result)"
      ],
      "execution_count": null,
      "outputs": [
        {
          "output_type": "stream",
          "name": "stdout",
          "text": [
            "[1, 3, 5, 7, 9]\n"
          ]
        }
      ]
    },
    {
      "cell_type": "code",
      "metadata": {
        "colab": {
          "base_uri": "https://localhost:8080/",
          "height": 316
        },
        "id": "d_I2Z-_xu_pe",
        "outputId": "fe327f74-17db-4cef-d6e3-4c47c6098c54"
      },
      "source": [
        "def front_back(word):\n",
        "    word = word.replace(word[0], word[len(word)+1])\n",
        "    return word\n",
        "\n",
        "front_back(\"mesut\")"
      ],
      "execution_count": null,
      "outputs": [
        {
          "output_type": "error",
          "ename": "IndexError",
          "evalue": "ignored",
          "traceback": [
            "\u001b[0;31m---------------------------------------------------------------------------\u001b[0m",
            "\u001b[0;31mIndexError\u001b[0m                                Traceback (most recent call last)",
            "\u001b[0;32m<ipython-input-6-7be268b78b65>\u001b[0m in \u001b[0;36m<module>\u001b[0;34m()\u001b[0m\n\u001b[1;32m      3\u001b[0m     \u001b[0;32mreturn\u001b[0m \u001b[0mword\u001b[0m\u001b[0;34m\u001b[0m\u001b[0;34m\u001b[0m\u001b[0m\n\u001b[1;32m      4\u001b[0m \u001b[0;34m\u001b[0m\u001b[0m\n\u001b[0;32m----> 5\u001b[0;31m \u001b[0mfront_back\u001b[0m\u001b[0;34m(\u001b[0m\u001b[0;34m\"mesut\"\u001b[0m\u001b[0;34m)\u001b[0m\u001b[0;34m\u001b[0m\u001b[0;34m\u001b[0m\u001b[0m\n\u001b[0m",
            "\u001b[0;32m<ipython-input-6-7be268b78b65>\u001b[0m in \u001b[0;36mfront_back\u001b[0;34m(word)\u001b[0m\n\u001b[1;32m      1\u001b[0m \u001b[0;32mdef\u001b[0m \u001b[0mfront_back\u001b[0m\u001b[0;34m(\u001b[0m\u001b[0mword\u001b[0m\u001b[0;34m)\u001b[0m\u001b[0;34m:\u001b[0m\u001b[0;34m\u001b[0m\u001b[0;34m\u001b[0m\u001b[0m\n\u001b[0;32m----> 2\u001b[0;31m     \u001b[0mword\u001b[0m \u001b[0;34m=\u001b[0m \u001b[0mword\u001b[0m\u001b[0;34m.\u001b[0m\u001b[0mreplace\u001b[0m\u001b[0;34m(\u001b[0m\u001b[0mword\u001b[0m\u001b[0;34m[\u001b[0m\u001b[0;36m0\u001b[0m\u001b[0;34m]\u001b[0m\u001b[0;34m,\u001b[0m \u001b[0mword\u001b[0m\u001b[0;34m[\u001b[0m\u001b[0mlen\u001b[0m\u001b[0;34m(\u001b[0m\u001b[0mword\u001b[0m\u001b[0;34m)\u001b[0m\u001b[0;34m+\u001b[0m\u001b[0;36m1\u001b[0m\u001b[0;34m]\u001b[0m\u001b[0;34m)\u001b[0m\u001b[0;34m\u001b[0m\u001b[0;34m\u001b[0m\u001b[0m\n\u001b[0m\u001b[1;32m      3\u001b[0m     \u001b[0;32mreturn\u001b[0m \u001b[0mword\u001b[0m\u001b[0;34m\u001b[0m\u001b[0;34m\u001b[0m\u001b[0m\n\u001b[1;32m      4\u001b[0m \u001b[0;34m\u001b[0m\u001b[0m\n\u001b[1;32m      5\u001b[0m \u001b[0mfront_back\u001b[0m\u001b[0;34m(\u001b[0m\u001b[0;34m\"mesut\"\u001b[0m\u001b[0;34m)\u001b[0m\u001b[0;34m\u001b[0m\u001b[0;34m\u001b[0m\u001b[0m\n",
            "\u001b[0;31mIndexError\u001b[0m: string index out of range"
          ]
        }
      ]
    },
    {
      "cell_type": "code",
      "metadata": {
        "colab": {
          "base_uri": "https://localhost:8080/"
        },
        "id": "dUwos0yHyl3F",
        "outputId": "580fdf0f-95ce-4d73-fe95-46551742cab9"
      },
      "source": [
        "a = \"mesut\"\n",
        "print(len(a))  "
      ],
      "execution_count": null,
      "outputs": [
        {
          "output_type": "stream",
          "name": "stdout",
          "text": [
            "5\n"
          ]
        }
      ]
    },
    {
      "cell_type": "code",
      "metadata": {
        "colab": {
          "base_uri": "https://localhost:8080/",
          "height": 35
        },
        "id": "RciQQK8e9ofh",
        "outputId": "5d6b2592-f5f5-41cb-a5fc-844b0f9e41ac"
      },
      "source": [
        "def front_back(word):\n",
        "    \n",
        "  empty_string = \"\"\n",
        "  empty_string += word[len(word) - 1] + word[1:len(word)-1] +word[0]\n",
        "  return empty_string\n",
        "front_back(\"mesut\")"
      ],
      "execution_count": null,
      "outputs": [
        {
          "output_type": "execute_result",
          "data": {
            "application/vnd.google.colaboratory.intrinsic+json": {
              "type": "string"
            },
            "text/plain": [
              "'tesum'"
            ]
          },
          "metadata": {},
          "execution_count": 25
        }
      ]
    },
    {
      "cell_type": "code",
      "metadata": {
        "id": "wXBUlujIBODD"
      },
      "source": [
        "def front_back(word):\n",
        "    if word[0] == word[len(word) -1] :\n",
        "        return word[0]\n",
        "    else :\n",
        "        empty_string = \"\"\n",
        "        empty_string += word[len(word) - 1] + word[1:len(word)-1] +word[0]+ \" \"\n",
        "        return empty_string\n",
        "        "
      ],
      "execution_count": null,
      "outputs": []
    },
    {
      "cell_type": "code",
      "metadata": {
        "colab": {
          "base_uri": "https://localhost:8080/"
        },
        "id": "9rH5lYTVM1uF",
        "outputId": "6f4696b8-2a6d-4a0e-80bd-3db076f1ccfe"
      },
      "source": [
        "def my_sum(*arg) :\n",
        "  sum = 0\n",
        "  k = list(arg)\n",
        "  for x in k :\n",
        "    sum += x\n",
        "  return sum\n",
        "my_sum(1, 2, 3, 4)\n",
        "  "
      ],
      "execution_count": null,
      "outputs": [
        {
          "output_type": "execute_result",
          "data": {
            "text/plain": [
              "10"
            ]
          },
          "metadata": {},
          "execution_count": 4
        }
      ]
    }
  ]
}