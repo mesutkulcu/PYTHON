{
  "nbformat": 4,
  "nbformat_minor": 0,
  "metadata": {
    "colab": {
      "name": "2.9.2021 soru cozumu.ipynb",
      "provenance": [],
      "collapsed_sections": []
    },
    "kernelspec": {
      "name": "python3",
      "display_name": "Python 3"
    },
    "language_info": {
      "name": "python"
    }
  },
  "cells": [
    {
      "cell_type": "code",
      "metadata": {
        "colab": {
          "base_uri": "https://localhost:8080/"
        },
        "id": "ctxKPLDXcIUp",
        "outputId": "189be73a-fb6e-4dc4-9825-42e5e3039c01"
      },
      "source": [
        "word = {1 : \"1\", 2 : \"2\"}\n",
        "keys = word.keys()\n",
        "word[1] = 1\n",
        "print(keys)\n",
        "print(word)"
      ],
      "execution_count": null,
      "outputs": [
        {
          "output_type": "stream",
          "name": "stdout",
          "text": [
            "dict_keys([1, 2])\n",
            "{1: 1, 2: '2'}\n"
          ]
        }
      ]
    },
    {
      "cell_type": "code",
      "metadata": {
        "colab": {
          "base_uri": "https://localhost:8080/"
        },
        "id": "UpswKmKbfumV",
        "outputId": "71c1eb4e-2940-459f-cd81-86f58094199f"
      },
      "source": [
        "string = \"bugun ayriliktan bir onceki session..\"\n",
        "empty_dict = {}\n",
        "for n in string :\n",
        "  keys = empty_dict.keys()\n",
        "  if n in empty_dict :\n",
        "    empty_dict[n] += 1\n",
        "  else :\n",
        "    empty_dict[n] = 1\n",
        "print(empty_dict)    \n",
        "\n"
      ],
      "execution_count": null,
      "outputs": [
        {
          "output_type": "stream",
          "name": "stdout",
          "text": [
            "{'b': 2, 'u': 2, 'g': 1, 'n': 4, ' ': 4, 'a': 2, 'y': 1, 'r': 2, 'i': 5, 'l': 1, 'k': 2, 't': 1, 'o': 2, 'c': 1, 'e': 2, 's': 3, '.': 2}\n"
          ]
        }
      ]
    },
    {
      "cell_type": "code",
      "metadata": {
        "colab": {
          "base_uri": "https://localhost:8080/"
        },
        "id": "uYrDd3tXipHx",
        "outputId": "e57844f5-2288-434e-d63a-8fd1f3cd71d9"
      },
      "source": [
        "veri = [\"a\", \"b\", True, (False, 1), {\"1\" : 2}, [1,2], {\"2\" : \"two\"}, {2, \"3\"}, \"c\", 23, 0]\n",
        "tipler = [\"int\", \"str\", \"tuple\", \"dict\", \"list\", \"set\", \"bool\"]\n",
        "toplam = {}.fromkeys(tipler, 0)\n",
        "for i in range(len(veri)) :\n",
        "  if type(veri[i]) == int : toplam[\"int\"] += 1\n",
        "  elif type(veri[i]) == bool : toplam[\"bool\"] += 1\n",
        "  elif type(veri[i]) == str : toplam[\"str\"] += 1\n",
        "  elif type(veri[i]) == list : toplam[\"list\"] += 1\n",
        "  elif type(veri[i]) == tuple : toplam[\"tuple\"] += 1\n",
        "  elif type(veri[i]) == dict : toplam[\"dict\"] += 1\n",
        "  elif type(veri[i]) == set : toplam[\"set\"] += 1\n",
        "print(toplam)"
      ],
      "execution_count": null,
      "outputs": [
        {
          "output_type": "stream",
          "name": "stdout",
          "text": [
            "{'int': 2, 'str': 3, 'tuple': 1, 'dict': 2, 'list': 1, 'set': 1, 'bool': 1}\n"
          ]
        }
      ]
    },
    {
      "cell_type": "markdown",
      "metadata": {
        "id": "AbKj_Oq2tMk3"
      },
      "source": [
        "##          **OBEB SORU COZUMU**"
      ]
    },
    {
      "cell_type": "code",
      "metadata": {
        "colab": {
          "base_uri": "https://localhost:8080/"
        },
        "id": "YVmZJ02RtX-t",
        "outputId": "04fc964b-5599-4b49-b48e-971d173d2dea"
      },
      "source": [
        "def obeb(a, b) :\n",
        "  if b == 0 :\n",
        "    return a\n",
        "  else :\n",
        "    return obeb(b, a % b)\n",
        "obeb(65, 25)"
      ],
      "execution_count": null,
      "outputs": [
        {
          "output_type": "execute_result",
          "data": {
            "text/plain": [
              "5"
            ]
          },
          "metadata": {},
          "execution_count": 23
        }
      ]
    },
    {
      "cell_type": "code",
      "metadata": {
        "colab": {
          "base_uri": "https://localhost:8080/"
        },
        "id": "KV8MEJwTvZFE",
        "outputId": "1718c8c1-e899-4fee-8e59-f6afd4f4b51a"
      },
      "source": [
        "def obeb(a,b):\n",
        "\tlist_a = []\n",
        "\tlist_b = []\n",
        "\tfor i in range(1,a+1) :\n",
        "\t\tif a % i == 0 :\n",
        "\t\t\tlist_a.append(i)\n",
        "\tfor j in range(1,b +1) :\n",
        "\t\tif b % j == 0 :\n",
        "\t\t\tlist_b.append(j)\n",
        "\tinter = set(list_a).intersection(set(list_b))\n",
        "\treturn max(inter)\n",
        "\t\n",
        "print(obeb(10,15))"
      ],
      "execution_count": null,
      "outputs": [
        {
          "output_type": "stream",
          "name": "stdout",
          "text": [
            "5\n"
          ]
        }
      ]
    },
    {
      "cell_type": "code",
      "metadata": {
        "colab": {
          "base_uri": "https://localhost:8080/"
        },
        "id": "uIHIuDKdvi8S",
        "outputId": "1aaa4c84-4482-4589-bf51-8337899e4572"
      },
      "source": [
        "def facto(n) :\n",
        "  if n == 0 : return 1\n",
        "  else :\n",
        "    return n * facto(n-1)\n",
        "facto(4)"
      ],
      "execution_count": null,
      "outputs": [
        {
          "output_type": "execute_result",
          "data": {
            "text/plain": [
              "24"
            ]
          },
          "metadata": {},
          "execution_count": 25
        }
      ]
    },
    {
      "cell_type": "code",
      "metadata": {
        "colab": {
          "base_uri": "https://localhost:8080/"
        },
        "id": "xWSw1gFK6cCt",
        "outputId": "00fb59d9-9e68-4d3c-f1b1-cbfd6ef79eed"
      },
      "source": [
        "# 1 2 3\n",
        "# 2 1 3\n",
        "# 2 3 1\n",
        "# 3 2 1\n",
        "# 3 1 2\n",
        "# 1 3 2\n",
        "# I took [1, 2 ,3] as a example list to create an algorithm. As you can see above first number iterates to the end\n",
        "# and the iteration time decrease at outer loop when each inner loop cycle is completed\n",
        "lst = [1, 2, 3]\n",
        "permutations = []\n",
        "ls = lst.copy()\n",
        "\n",
        "for i in range(len(ls), 0, -1):\n",
        "    for j in range(i):\n",
        "        if ls not in permutations:\n",
        "            permutations.extend(ls)\n",
        "        index = ls[j]\n",
        "        ls.pop(j)\n",
        "        ls.insert(j+1, index)\n",
        "ls.clear()\n",
        "\n",
        "permutation = [permutations[x:x+len(lst)] for x in range(0, len(permutations), len(lst))]\n",
        "print(permutation)\n"
      ],
      "execution_count": null,
      "outputs": [
        {
          "output_type": "stream",
          "name": "stdout",
          "text": [
            "[[1, 2, 3], [2, 1, 3], [2, 3, 1], [2, 3, 1], [3, 2, 1], [3, 1, 2]]\n"
          ]
        }
      ]
    },
    {
      "cell_type": "code",
      "metadata": {
        "id": "x11-T_-_6yMk",
        "colab": {
          "base_uri": "https://localhost:8080/"
        },
        "outputId": "791770d7-6cbf-4d48-a2d3-56b0c90259eb"
      },
      "source": [
        "num = [1,2,3]\n",
        "solution = [[]]\n",
        "numset = set(num)\n",
        "for index in range(len(num)):\n",
        "    solution = [i + [j] for i in solution for j in numset.difference(set(i))]\n",
        "print(solution)"
      ],
      "execution_count": null,
      "outputs": [
        {
          "output_type": "stream",
          "name": "stdout",
          "text": [
            "[[1, 2, 3], [1, 3, 2], [2, 1, 3], [2, 3, 1], [3, 1, 2], [3, 2, 1]]\n"
          ]
        }
      ]
    },
    {
      "cell_type": "code",
      "metadata": {
        "colab": {
          "base_uri": "https://localhost:8080/"
        },
        "id": "ZxL6SV9Ucksn",
        "outputId": "e8ba900d-c391-4591-8bdb-44fd91811fec"
      },
      "source": [
        "def tringle(sayi) :\n",
        "  toplam = 0\n",
        "  bos_liste = []\n",
        "  for i in range(sayi + 1) :\n",
        "    bos_liste.append(i + toplam)\n",
        "    toplam +=i\n",
        "  return toplam   \n",
        "tringle(8)\n"
      ],
      "execution_count": null,
      "outputs": [
        {
          "output_type": "execute_result",
          "data": {
            "text/plain": [
              "36"
            ]
          },
          "metadata": {},
          "execution_count": 18
        }
      ]
    },
    {
      "cell_type": "code",
      "metadata": {
        "colab": {
          "base_uri": "https://localhost:8080/"
        },
        "id": "P3aZyHt0dnnZ",
        "outputId": "6d3fc383-f019-45d2-db4f-a227589028fb"
      },
      "source": [
        "def bolen(number) :\n",
        "  empty_list = []\n",
        "  for i in range(1, number + 1) :\n",
        "    if number % i == 0 :\n",
        "      empty_list.append(i)\n",
        "  return len(empty_list)\n",
        "print(bolen(14))\n"
      ],
      "execution_count": null,
      "outputs": [
        {
          "output_type": "stream",
          "name": "stdout",
          "text": [
            "4\n"
          ]
        }
      ]
    },
    {
      "cell_type": "code",
      "metadata": {
        "colab": {
          "base_uri": "https://localhost:8080/"
        },
        "id": "3ThCjzU1uq4E",
        "outputId": "53bce573-824f-4946-c85f-e103d3831acc"
      },
      "source": [
        "def tringle(sayi) :\n",
        "  toplam = 0\n",
        "  for k in range(sayi + 1) :\n",
        "    toplam +=k\n",
        "  return toplam  \n",
        "tringle(1)"
      ],
      "execution_count": null,
      "outputs": [
        {
          "output_type": "execute_result",
          "data": {
            "text/plain": [
              "1"
            ]
          },
          "metadata": {},
          "execution_count": 25
        }
      ]
    },
    {
      "cell_type": "code",
      "metadata": {
        "colab": {
          "base_uri": "https://localhost:8080/"
        },
        "id": "4nrgLsmBzMji",
        "outputId": "e1823c05-6304-4dc0-e5cc-351ef8849950"
      },
      "source": [
        "def bolen(number) :\n",
        "  empty_list = []\n",
        "  for i in range(1, number + 1) :\n",
        "    if number % i == 0 :\n",
        "      empty_list.append(i)\n",
        "  return len(empty_list)\n",
        "     \n",
        "n = 1\n",
        "while True :\n",
        "  toplam = 0\n",
        "  for k in range(1, n+ 1) :\n",
        "    toplam +=k\n",
        "  if bolen(toplam) > 5 :\n",
        "  \n",
        "    print(toplam)\n",
        "    break\n",
        "  n +=1"
      ],
      "execution_count": null,
      "outputs": [
        {
          "output_type": "stream",
          "name": "stdout",
          "text": [
            "28\n"
          ]
        }
      ]
    },
    {
      "cell_type": "code",
      "metadata": {
        "colab": {
          "base_uri": "https://localhost:8080/"
        },
        "id": "Diguf5tFzZQ5",
        "outputId": "02982da2-d9c3-41b3-9efc-30ecec3d5666"
      },
      "source": [
        "def tringle(sayi) :\n",
        "  toplam = 0\n",
        "  for k in range(sayi + 1) :\n",
        "    toplam += k\n",
        "  return toplam   \n",
        "\n",
        "\n",
        "def bolen(number) :\n",
        "  empty_list = []\n",
        "  for i in range(1, number + 1) :\n",
        "    if number % i == 0 :\n",
        "      empty_list.append(i)\n",
        "  return len(empty_list)\n",
        "\n",
        "n = 1\n",
        "while True :\n",
        "  numbers = tringle(n)\n",
        "  if bolen(numbers) > 5 :\n",
        "    print(numbers)\n",
        "    break\n",
        "  n +=1"
      ],
      "execution_count": null,
      "outputs": [
        {
          "output_type": "stream",
          "name": "stdout",
          "text": [
            "28\n"
          ]
        }
      ]
    },
    {
      "cell_type": "code",
      "metadata": {
        "colab": {
          "base_uri": "https://localhost:8080/"
        },
        "id": "3VsgzSsv1b-1",
        "outputId": "7d2e5612-1452-4340-b42c-ac9444598089"
      },
      "source": [
        "def not_string(word):\n",
        "  k = \"not\"\n",
        "  result = word.split()\n",
        "  if k in result :\n",
        "    return result[1]\n",
        "  else :\n",
        "    return k + \" \" + word\n",
        "print(not_string(\"money\"))\n",
        "print(not_string(\"not money\"))\n",
        "print(not_string(\"not bad\"))\n",
        "  "
      ],
      "execution_count": null,
      "outputs": [
        {
          "output_type": "stream",
          "name": "stdout",
          "text": [
            "not money\n",
            "money\n",
            "bad\n"
          ]
        }
      ]
    },
    {
      "cell_type": "code",
      "metadata": {
        "colab": {
          "base_uri": "https://localhost:8080/"
        },
        "id": "cp0Gr0Pp4Pdq",
        "outputId": "45574e93-36b2-40b5-d494-8da5c3788191"
      },
      "source": [
        "def not_string(word):\n",
        "  k = \"not\"\n",
        "  if k in word.split() :\n",
        "      return word.split()[1]\n",
        "  else :\n",
        "    return k + \" \" + word\n",
        "print(\"not money\")\n"
      ],
      "execution_count": null,
      "outputs": [
        {
          "output_type": "stream",
          "name": "stdout",
          "text": [
            "not money\n"
          ]
        }
      ]
    },
    {
      "cell_type": "code",
      "metadata": {
        "colab": {
          "base_uri": "https://localhost:8080/"
        },
        "id": "sQzCdnrn7RPY",
        "outputId": "95c1126a-d54e-4b2b-c01f-d988945294b0"
      },
      "source": [
        "k = 1\n",
        "while True:\n",
        "  triangular_number = 0\n",
        "  for i in range(k+1):\n",
        "    triangular_number += i\n",
        "\n",
        "  bölen_list = []\n",
        "  for ii in range(1,triangular_number):\n",
        "    if triangular_number % ii == 0:\n",
        "      bölen_list.append(ii)\n",
        "    else:\n",
        "      pass\n",
        "\n",
        "  if len(bölen_list) >= 100:\n",
        "    print(triangular_number)\n",
        "    print(k)\n",
        "    print(bölen_list)\n",
        "    break\n",
        "  k += 1"
      ],
      "execution_count": null,
      "outputs": [
        {
          "output_type": "stream",
          "name": "stdout",
          "text": [
            "73920\n",
            "384\n",
            "[1, 2, 3, 4, 5, 6, 7, 8, 10, 11, 12, 14, 15, 16, 20, 21, 22, 24, 28, 30, 32, 33, 35, 40, 42, 44, 48, 55, 56, 60, 64, 66, 70, 77, 80, 84, 88, 96, 105, 110, 112, 120, 132, 140, 154, 160, 165, 168, 176, 192, 210, 220, 224, 231, 240, 264, 280, 308, 320, 330, 336, 352, 385, 420, 440, 448, 462, 480, 528, 560, 616, 660, 672, 704, 770, 840, 880, 924, 960, 1056, 1120, 1155, 1232, 1320, 1344, 1540, 1680, 1760, 1848, 2112, 2240, 2310, 2464, 2640, 3080, 3360, 3520, 3696, 4620, 4928, 5280, 6160, 6720, 7392, 9240, 10560, 12320, 14784, 18480, 24640, 36960]\n"
          ]
        }
      ]
    },
    {
      "cell_type": "code",
      "metadata": {
        "colab": {
          "base_uri": "https://localhost:8080/"
        },
        "id": "xXhhUvii-8Xh",
        "outputId": "2f5d693d-4c9a-4506-ccdb-84a09245473f"
      },
      "source": [
        "left_hand = {\"a\", \"s\", \"d\", \"f\", \"g\", \"t\", \"r\", \"e\", \"w\", \"q\",\"z\", \"x\", \"c\", \"w\", \"b\"}\n",
        "right_hand = {\"y\", \"u\", \"i\", \"o\", \"p\", \"l\", \"k\", \"J\", \"h\", \"n\", \"m\"}\n",
        "words = input(\"enter a word :\")\n",
        "bool1 = bool(set(words) - left_hand)\n",
        "bool2 = bool(set(words) - right_hand)\n",
        "print(bool1 and bool2)\n",
        "\n",
        "  "
      ],
      "execution_count": null,
      "outputs": [
        {
          "output_type": "stream",
          "name": "stdout",
          "text": [
            "enter a word :polly\n",
            "False\n"
          ]
        }
      ]
    },
    {
      "cell_type": "code",
      "metadata": {
        "colab": {
          "base_uri": "https://localhost:8080/"
        },
        "id": "1pwB6-ctBgv9",
        "outputId": "dab31a03-43ea-499b-c42a-b6adb81a5abc"
      },
      "source": [
        "a= \"mesut\"\n",
        "print(list(a))"
      ],
      "execution_count": null,
      "outputs": [
        {
          "output_type": "stream",
          "name": "stdout",
          "text": [
            "['m', 'e', 's', 'u', 't']\n"
          ]
        }
      ]
    },
    {
      "cell_type": "code",
      "metadata": {
        "colab": {
          "base_uri": "https://localhost:8080/"
        },
        "id": "WgY9nkKLtXtP",
        "outputId": "2eeffaf1-a0f6-4b15-8d4a-6b96af1e4e64"
      },
      "source": [
        "numbers = \"\"\"08 02 22 97 38 18 00 40 04 05 78 52 12\n",
        "49 49 99 40 17 81 18 57 60 87 17 40 98\n",
        "81 49 31 73 55 79 14 29 93 71 40 67 53\"\"\"\n",
        "rows = numbers.split(\"\\n\")\n",
        "empty_list = []\n",
        "for i in range(3) :\n",
        "  elements = rows[i].split(\" \")\n",
        "  empty_list.append(elements)\n",
        "print(empty_list)\n",
        "\n",
        "#for k in range(3) :\n",
        "  #for j in range(len(empty_list[k])) :\n",
        "    #print(empty_list[k][j])\n"
      ],
      "execution_count": null,
      "outputs": [
        {
          "output_type": "stream",
          "name": "stdout",
          "text": [
            "[['08', '02', '22', '97', '38', '18', '00', '40', '04', '05', '78', '52', '12'], ['49', '49', '99', '40', '17', '81', '18', '57', '60', '87', '17', '40', '98'], ['81', '49', '31', '73', '55', '79', '14', '29', '93', '71', '40', '67', '53']]\n"
          ]
        }
      ]
    },
    {
      "cell_type": "code",
      "metadata": {
        "colab": {
          "base_uri": "https://localhost:8080/"
        },
        "id": "eErpVl6rvgQq",
        "outputId": "f58b0094-0f17-4d3e-ac22-f200ca7fb412"
      },
      "source": [
        "numbers = \"\"\"08 02 22 97 38 18 00 40 04 05 78 52 12\n",
        "49 49 99 40 17 81 18 57 60 87 17 40 98\n",
        "81 49 31 73 55 79 14 29 93 71 40 67 53\"\"\"\n",
        "len(numbers)"
      ],
      "execution_count": null,
      "outputs": [
        {
          "output_type": "execute_result",
          "data": {
            "text/plain": [
              "116"
            ]
          },
          "metadata": {},
          "execution_count": 8
        }
      ]
    },
    {
      "cell_type": "code",
      "metadata": {
        "id": "bsmXwO2dpw1e"
      },
      "source": [
        "k = 0\n",
        "toplam = 0\n",
        "bos_liste = []\n",
        "for i in range(10) :\n",
        "  bos_liste.append(i + toplam)\n",
        "  toplam = k + i\n",
        "\n",
        "  "
      ],
      "execution_count": null,
      "outputs": []
    },
    {
      "cell_type": "code",
      "metadata": {
        "colab": {
          "base_uri": "https://localhost:8080/"
        },
        "id": "PYD1UQqYbxvz",
        "outputId": "c794029c-5f45-40df-eabb-c6ef663cd9ba"
      },
      "source": [
        "count = 0\n",
        "n1 = 0\n",
        "n2 = 1\n",
        "while count < 20 :\n",
        "  print(n1)\n",
        "  toplam = n1 + n2\n",
        "  n1 = n2\n",
        "  n2 = toplam\n",
        "  count += 1"
      ],
      "execution_count": null,
      "outputs": [
        {
          "output_type": "stream",
          "name": "stdout",
          "text": [
            "0\n",
            "1\n",
            "1\n",
            "2\n",
            "3\n",
            "5\n",
            "8\n",
            "13\n",
            "21\n",
            "34\n",
            "55\n",
            "89\n",
            "144\n",
            "233\n",
            "377\n",
            "610\n",
            "987\n",
            "1597\n",
            "2584\n",
            "4181\n"
          ]
        }
      ]
    },
    {
      "cell_type": "code",
      "metadata": {
        "colab": {
          "base_uri": "https://localhost:8080/"
        },
        "id": "c13fMwFxTUig",
        "outputId": "987a093d-fc0b-4069-bfa0-c13bd21e526f"
      },
      "source": [
        "x1 = 1\n",
        "x2 = 2\n",
        "for i in range(10) :\n",
        "  print(x1)\n",
        "  toplam = x1 + x2\n",
        "  x1 = x2\n",
        "  x2 = toplam"
      ],
      "execution_count": null,
      "outputs": [
        {
          "output_type": "stream",
          "name": "stdout",
          "text": [
            "1\n",
            "2\n",
            "3\n",
            "5\n",
            "8\n",
            "13\n",
            "21\n",
            "34\n",
            "55\n",
            "89\n"
          ]
        }
      ]
    },
    {
      "cell_type": "code",
      "metadata": {
        "colab": {
          "base_uri": "https://localhost:8080/"
        },
        "id": "fiqP-6j1Muwi",
        "outputId": "1ab9ab03-109b-432d-fd01-b53a6dc4f03b"
      },
      "source": [
        "x1 = 1\n",
        "x2 = 1\n",
        "#print(x1)\n",
        "for i in range(10) :\n",
        "  print(x1)\n",
        "  t = x1 + x2\n",
        "  x2 = x1\n",
        "  x1 = t "
      ],
      "execution_count": null,
      "outputs": [
        {
          "output_type": "stream",
          "name": "stdout",
          "text": [
            "1\n",
            "2\n",
            "3\n",
            "5\n",
            "8\n",
            "13\n",
            "21\n",
            "34\n",
            "55\n",
            "89\n"
          ]
        }
      ]
    },
    {
      "cell_type": "code",
      "metadata": {
        "colab": {
          "base_uri": "https://localhost:8080/"
        },
        "id": "6Y7gNE1HO7E9",
        "outputId": "5af84d4f-44ba-40ef-ca07-dffc8a1c1378"
      },
      "source": [
        "count = 0\n",
        "n1 = 0\n",
        "n2 = 1\n",
        "while count < 20 :\n",
        "  print(n1)\n",
        "  toplam = n1 + n2\n",
        "  n1 = n2\n",
        "  n2 = toplam\n",
        "  count += 1"
      ],
      "execution_count": null,
      "outputs": [
        {
          "output_type": "stream",
          "name": "stdout",
          "text": [
            "0\n",
            "1\n",
            "1\n",
            "2\n",
            "3\n",
            "5\n",
            "8\n",
            "13\n",
            "21\n",
            "34\n",
            "55\n",
            "89\n",
            "144\n",
            "233\n",
            "377\n",
            "610\n",
            "987\n",
            "1597\n",
            "2584\n",
            "4181\n"
          ]
        }
      ]
    },
    {
      "cell_type": "code",
      "metadata": {
        "colab": {
          "base_uri": "https://localhost:8080/"
        },
        "id": "KoVddlrnRgKw",
        "outputId": "d27bb9b3-dbc1-42e6-a6dd-4b26efd251aa"
      },
      "source": [
        "x1 = 2\n",
        "x2 = 4\n",
        "print(x1)\n",
        "t = x1 + x2\n",
        "x1 = 500\n",
        "x2 = 600\n",
        "print(t)\n",
        "print(x2)\n"
      ],
      "execution_count": null,
      "outputs": [
        {
          "output_type": "stream",
          "name": "stdout",
          "text": [
            "2\n",
            "6\n",
            "600\n"
          ]
        }
      ]
    },
    {
      "cell_type": "code",
      "metadata": {
        "colab": {
          "base_uri": "https://localhost:8080/",
          "height": 35
        },
        "id": "vUC_HnYZTP_x",
        "outputId": "a46572a1-d03a-4b69-a484-a4b9bc65f18e"
      },
      "source": [
        "def parantez(test) :\n",
        "  acma = [\"{\", \"[\", \"(\"]\n",
        "  kapama = [\"}\", \"]\", \")\"]\n",
        "  liste = []\n",
        "  for i in test :\n",
        "    if i in acma :\n",
        "      liste.append(i)\n",
        "    elif i in kapama :\n",
        "      number = kapama.index(i)\n",
        "      if len(liste) > 0 and acma[number] == liste[-1] :\n",
        "        liste.pop()\n",
        "      else :\n",
        "        return \"unbalanced\"\n",
        "  if len(liste) == 0 :\n",
        "    return \"balanced\"\n",
        "  else :\n",
        "    return \"unbalanced\"\n",
        "parantez(\"[]\")"
      ],
      "execution_count": null,
      "outputs": [
        {
          "output_type": "execute_result",
          "data": {
            "application/vnd.google.colaboratory.intrinsic+json": {
              "type": "string"
            },
            "text/plain": [
              "'balanced'"
            ]
          },
          "metadata": {},
          "execution_count": 1
        }
      ]
    },
    {
      "cell_type": "code",
      "metadata": {
        "colab": {
          "base_uri": "https://localhost:8080/"
        },
        "id": "8dYbCbOnTe7F",
        "outputId": "3891a4f0-c2c0-4662-a9f9-553deefd1b47"
      },
      "source": [
        "def zip_(yazi) :\n",
        "  a = yazi.count(\"zip\")\n",
        "  if a < 2 :\n",
        "    return - 1\n",
        "  else :\n",
        "    b = yazi.split(\"zip\")\n",
        "    return len(b[0] + b[1]) + 3\n",
        "zip_(\"abczipabdzipabezip\")"
      ],
      "execution_count": null,
      "outputs": [
        {
          "output_type": "execute_result",
          "data": {
            "text/plain": [
              "9"
            ]
          },
          "metadata": {},
          "execution_count": 12
        }
      ]
    },
    {
      "cell_type": "code",
      "metadata": {
        "colab": {
          "base_uri": "https://localhost:8080/"
        },
        "id": "8jr6fMpcZtsm",
        "outputId": "2707bddf-c231-4b7a-8fdd-1b51b0737350"
      },
      "source": [
        "yazi = \"abczipabdzipabezip\"\n",
        "print(yazi.index(\"abd\"))"
      ],
      "execution_count": null,
      "outputs": [
        {
          "output_type": "stream",
          "name": "stdout",
          "text": [
            "6\n"
          ]
        }
      ]
    },
    {
      "cell_type": "code",
      "metadata": {
        "colab": {
          "base_uri": "https://localhost:8080/"
        },
        "id": "1h6GpZHJcNuI",
        "outputId": "5e11a5f8-37af-4cab-8509-d819ab4eeabd"
      },
      "source": [
        "yazi = \"abczipabdzipabezip\"\n",
        "b = yazi.split(\"zip\")\n",
        "length = len(b[0] + b[1])\n",
        "print(length + 3)\n"
      ],
      "execution_count": null,
      "outputs": [
        {
          "output_type": "stream",
          "name": "stdout",
          "text": [
            "9\n"
          ]
        }
      ]
    }
  ]
}