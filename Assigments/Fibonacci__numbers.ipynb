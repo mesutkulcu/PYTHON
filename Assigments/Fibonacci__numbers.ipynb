{
  "nbformat": 4,
  "nbformat_minor": 0,
  "metadata": {
    "colab": {
      "name": "Fibonacci _numbers.ipynb",
      "provenance": [],
      "collapsed_sections": []
    },
    "kernelspec": {
      "name": "python3",
      "display_name": "Python 3"
    },
    "language_info": {
      "name": "python"
    }
  },
  "cells": [
    {
      "cell_type": "code",
      "metadata": {
        "colab": {
          "base_uri": "https://localhost:8080/"
        },
        "id": "ON-Xy1Hskhjr",
        "outputId": "cf860adc-606c-49d6-b3de-8c65de696624"
      },
      "source": [
        "i = 0\n",
        "k = 0\n",
        "y = 1\n",
        "lst_fib = []\n",
        "while i < 10:\n",
        "  k, y = y, k+y\n",
        "  lst_fib.append(k)\n",
        "  i+=1\n",
        "\n",
        "lst_fib\n",
        "  "
      ],
      "execution_count": 13,
      "outputs": [
        {
          "output_type": "execute_result",
          "data": {
            "text/plain": [
              "[1, 1, 2, 3, 5, 8, 13, 21, 34, 55]"
            ]
          },
          "metadata": {
            "tags": []
          },
          "execution_count": 13
        }
      ]
    }
  ]
}