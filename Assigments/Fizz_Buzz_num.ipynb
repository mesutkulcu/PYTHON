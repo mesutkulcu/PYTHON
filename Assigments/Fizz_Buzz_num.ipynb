{
  "nbformat": 4,
  "nbformat_minor": 0,
  "metadata": {
    "colab": {
      "name": "Fizz_Buzz_num.ipynb",
      "provenance": [],
      "collapsed_sections": []
    },
    "kernelspec": {
      "name": "python3",
      "display_name": "Python 3"
    },
    "language_info": {
      "name": "python"
    }
  },
  "cells": [
    {
      "cell_type": "markdown",
      "metadata": {
        "id": "rfJHRGU2MHhd"
      },
      "source": [
        "Task : Print the Fizz Buzz numbers.\n",
        "\n",
        "Fizz Buzz is a famous code challenge used in interviews to test basic programming skills. It's time to write your own implementation.\n",
        "Print numbers from 1 to 100 inclusively following these instructions:\n",
        "if a number is multiple of 3, print \"Fizz\" instead of this number,\n",
        "if a number is multiple of 5, print \"Buzz\" instead of this number,\n",
        "for numbers that are multiples of both 3 and 5, print \"FizzBuzz\",\n",
        "print the rest of the numbers unchanged.\n",
        "Output each value on a separate line.\n",
        "Note that : This question is famous on the web, so to get more benefit from this assignment, try to complete this task on your own."
      ]
    },
    {
      "cell_type": "code",
      "metadata": {
        "id": "F6xoe9RWMGtx"
      },
      "source": [
        "def FizzBuzz():\n",
        "  for i in range(1,100):\n",
        "    if i%3 == 0 and i%5 == 0:\n",
        "      print(\"FizzBuzz\")\n",
        "    elif i%3 == 0:\n",
        "      print(\"Fizz\")\n",
        "    elif i%5 == 0:\n",
        "      print(\"Buzz\")\n",
        "    else: \n",
        "      print(i)\n",
        "\n",
        "FizzBuzz()"
      ],
      "execution_count": null,
      "outputs": []
    },
    {
      "cell_type": "code",
      "metadata": {
        "id": "yfEm2KlZNo-k"
      },
      "source": [
        ""
      ],
      "execution_count": null,
      "outputs": []
    }
  ]
}