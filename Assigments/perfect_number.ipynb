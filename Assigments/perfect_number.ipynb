{
  "nbformat": 4,
  "nbformat_minor": 0,
  "metadata": {
    "colab": {
      "name": "perfect_number.ipynb",
      "provenance": [],
      "collapsed_sections": []
    },
    "kernelspec": {
      "name": "python3",
      "display_name": "Python 3"
    },
    "language_info": {
      "name": "python"
    }
  },
  "cells": [
    {
      "cell_type": "code",
      "metadata": {
        "id": "mLXJp0KauMjE"
      },
      "source": [
        "num = int(input(\"Enter a number\"))\n",
        "perfect_list = []\n",
        "\n",
        "for i in range(1, num + 1):\n",
        "  if num % i == 0:\n",
        "    perfect_list.append(i)\n",
        "if sum(perfect_list[:-1]) == num and sum(perfect_list) / 2 ==num:\n",
        "  print(f\"{num} is the perfect number\")\n",
        "else:\n",
        "  print(f\"{num} is not the perfect number\")"
      ],
      "execution_count": null,
      "outputs": []
    }
  ]
}