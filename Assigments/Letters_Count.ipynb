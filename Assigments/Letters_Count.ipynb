{
  "nbformat": 4,
  "nbformat_minor": 0,
  "metadata": {
    "colab": {
      "name": "Letters_Count.ipynb",
      "provenance": [],
      "collapsed_sections": []
    },
    "kernelspec": {
      "name": "python3",
      "display_name": "Python 3"
    },
    "language_info": {
      "name": "python"
    }
  },
  "cells": [
    {
      "cell_type": "markdown",
      "metadata": {
        "id": "tQm2aQqwrb7b"
      },
      "source": [
        "Task:\n",
        "\n",
        "Count the number of each letter in a sentence.\n",
        "The department you work for undertook a project construction that makes word / text analysis. You are asked to calculate the number of letters or any chars in the sentences entered under this project.\n",
        "Write a Python program that;\n",
        "takes a sentence from the user,\n",
        "counts the number of each letter of the sentence,\n",
        "collects the letters/chars as a key and the counted numbers as a value in a dictionary.\n",
        "\n",
        "Examples\n",
        "Sample inputs\tOutputs\n",
        "hippo runs to us!\t\n",
        "{'s': 2, 'r': 1, 't': 1, 'h': 1, 'n': 1, \n",
        "'i': 1, 'u': 2, 'o': 2, 'p': 2, ' ': 3, '!': 1}"
      ]
    },
    {
      "cell_type": "code",
      "metadata": {
        "id": "iRuKuVbArXgp"
      },
      "source": [
        "def letter_count(s):\n",
        "  dic_letter = {}\n",
        "  for i in s:\n",
        "    if i in dic_letter :\n",
        "      dic_letter[i] += 1\n",
        "    else:\n",
        "      dic_letter[i] = 1\n",
        "  print(dic_letter)\n",
        "\n",
        "letter_count(\"hippo runs to us!\")\n"
      ],
      "execution_count": null,
      "outputs": []
    }
  ]
}