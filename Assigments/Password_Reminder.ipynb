{
  "nbformat": 4,
  "nbformat_minor": 0,
  "metadata": {
    "colab": {
      "name": "Password_Reminder.ipynb",
      "provenance": [],
      "collapsed_sections": []
    },
    "kernelspec": {
      "name": "python3",
      "display_name": "Python 3"
    },
    "language_info": {
      "name": "python"
    }
  },
  "cells": [
    {
      "cell_type": "markdown",
      "metadata": {
        "id": "XnWGdo1LCZRy"
      },
      "source": [
        "Password Reminder\n",
        "\n",
        "Task : Let's say; you left a message in the past that prints a password you need. To see the password you wrote, you need to enter your **name** and the program should recognize you.\n",
        "Write a program that \n",
        "\n",
        "Takes the first name from the user and compares it to yours,\n",
        "Then if the name the user entered is the same as yours, print out such as : \"Hello, **Joseph!** The password is : W@12\",\n",
        "If the name the user entered is not the same as yours, print out such as : \"Hello,** Amina!** See you later.\"\n",
        "\n",
        "\n",
        "\n",
        "\n",
        "\n",
        "---\n",
        "\n",
        "\n",
        "\n",
        "\n",
        "\n",
        "\n",
        "\n"
      ]
    },
    {
      "cell_type": "code",
      "metadata": {
        "id": "gB79QGRyDebr"
      },
      "source": [
        "my_first_name = \"Harun\"\n",
        "user_entered_name = input(\"please enter the your name: \").title()\n",
        "if my_first_name == user_entered_name:\n",
        "  print(f\"Hello, {user_entered_name}! The password is : W@12\")\n",
        "else:\n",
        "  print(f\"Hello, {user_entered_name}! See you later.\")\n"
      ],
      "execution_count": 5,
      "outputs": []
    },
    {
      "cell_type": "code",
      "metadata": {
        "id": "rPxHccTnGKF1"
      },
      "source": [
        ""
      ],
      "execution_count": null,
      "outputs": []
    }
  ]
}