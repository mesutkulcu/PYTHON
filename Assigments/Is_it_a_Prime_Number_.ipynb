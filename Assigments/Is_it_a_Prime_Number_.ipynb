{
  "nbformat": 4,
  "nbformat_minor": 0,
  "metadata": {
    "colab": {
      "name": "Is it a Prime Number?.ipynb",
      "provenance": [],
      "collapsed_sections": []
    },
    "kernelspec": {
      "name": "python3",
      "display_name": "Python 3"
    },
    "language_info": {
      "name": "python"
    }
  },
  "cells": [
    {
      "cell_type": "markdown",
      "metadata": {
        "id": "KnHEplWbqQsC"
      },
      "source": [
        "Task : Write a program that takes a number from the user and prints the result to check if it is a prime number.\n",
        "\n",
        "The examples of the desired output are as follows :\n",
        "\n",
        "input →  19 ⇉ output : 19 is a prime number\n",
        "input →  10 ⇉ output : 10 is not a prime number\n",
        "\n",
        "Note that ⚠ : This question is famous on the web,\n",
        "so to get more benefit from this assignment,\n",
        "try to complete this task on your own. "
      ]
    },
    {
      "cell_type": "code",
      "metadata": {
        "id": "A-mGePB0qc18"
      },
      "source": [
        "sayi=int(input(\"Lütfen bir sayı giriniz: \"))\n",
        "liste=[i for i in range(2,sayi) if not sayi%i]\n",
        "if any(liste):\n",
        "  print(sayi,\"is not a prime number\") \n",
        "else:\n",
        "  print(sayi,\"is a prime number\")"
      ],
      "execution_count": null,
      "outputs": []
    },
    {
      "cell_type": "code",
      "metadata": {
        "id": "f8LoMbI2NngY"
      },
      "source": [
        ""
      ],
      "execution_count": null,
      "outputs": []
    }
  ]
}