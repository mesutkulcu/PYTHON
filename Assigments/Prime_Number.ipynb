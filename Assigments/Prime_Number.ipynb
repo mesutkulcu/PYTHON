{
  "nbformat": 4,
  "nbformat_minor": 0,
  "metadata": {
    "colab": {
      "name": "Prime-Number.ipynb",
      "provenance": [],
      "collapsed_sections": []
    },
    "kernelspec": {
      "name": "python3",
      "display_name": "Python 3"
    },
    "language_info": {
      "name": "python"
    }
  },
  "cells": [
    {
      "cell_type": "code",
      "metadata": {
        "colab": {
          "base_uri": "https://localhost:8080/"
        },
        "id": "11KLUy4ZiIdx",
        "outputId": "a5d84e4f-da67-493b-fc3c-99677bfc14a6"
      },
      "source": [
        "def prime_number(n):\n",
        "  prime_number = True\n",
        "  for i in range(2,n):\n",
        "    if n == 2:\n",
        "      prime_number = True\n",
        "    elif n%i == 0:\n",
        "      prime_number = False\n",
        "  return prime_number\n",
        "\n",
        "def prime(n):\n",
        "  return [i for i in range(2,n) if prime_number(i)]\n",
        "\n",
        "print(prime(100))"
      ],
      "execution_count": 17,
      "outputs": [
        {
          "output_type": "stream",
          "text": [
            "[2, 3, 5, 7, 11, 13, 17, 19, 23, 29, 31, 37, 41, 43, 47, 53, 59, 61, 67, 71, 73, 79, 83, 89, 97]\n"
          ],
          "name": "stdout"
        }
      ]
    }
  ]
}