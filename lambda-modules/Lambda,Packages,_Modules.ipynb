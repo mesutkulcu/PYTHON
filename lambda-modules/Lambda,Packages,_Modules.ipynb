{
  "nbformat": 4,
  "nbformat_minor": 0,
  "metadata": {
    "colab": {
      "name": "Lambda,Packages, Modules",
      "provenance": [],
      "collapsed_sections": []
    },
    "kernelspec": {
      "name": "python3",
      "display_name": "Python 3"
    },
    "language_info": {
      "name": "python"
    }
  },
  "cells": [
    {
      "cell_type": "code",
      "metadata": {
        "colab": {
          "base_uri": "https://localhost:8080/"
        },
        "id": "tCb8y_7aavJc",
        "outputId": "7d5158e9-dac1-47b7-97b2-9b087e97caa6"
      },
      "source": [
        "import math\n",
        "print(dir(math))"
      ],
      "execution_count": null,
      "outputs": [
        {
          "output_type": "stream",
          "name": "stdout",
          "text": [
            "['__doc__', '__loader__', '__name__', '__package__', '__spec__', 'acos', 'acosh', 'asin', 'asinh', 'atan', 'atan2', 'atanh', 'ceil', 'copysign', 'cos', 'cosh', 'degrees', 'e', 'erf', 'erfc', 'exp', 'expm1', 'fabs', 'factorial', 'floor', 'fmod', 'frexp', 'fsum', 'gamma', 'gcd', 'hypot', 'inf', 'isclose', 'isfinite', 'isinf', 'isnan', 'ldexp', 'lgamma', 'log', 'log10', 'log1p', 'log2', 'modf', 'nan', 'pi', 'pow', 'radians', 'remainder', 'sin', 'sinh', 'sqrt', 'tan', 'tanh', 'tau', 'trunc']\n"
          ]
        }
      ]
    },
    {
      "cell_type": "code",
      "metadata": {
        "id": "5KNq86jLa50-",
        "colab": {
          "base_uri": "https://localhost:8080/"
        },
        "outputId": "083d079a-26be-4ec2-9492-06c3d627dbf3"
      },
      "source": [
        "from math import pi, factorial, log10\n",
        "print(pi * 2)\n",
        "print(factorial(5))\n",
        "print(log10(1000))"
      ],
      "execution_count": null,
      "outputs": [
        {
          "output_type": "stream",
          "name": "stdout",
          "text": [
            "6.283185307179586\n",
            "120\n",
            "3.0\n"
          ]
        }
      ]
    },
    {
      "cell_type": "code",
      "metadata": {
        "colab": {
          "base_uri": "https://localhost:8080/"
        },
        "id": "jl4K-J9Yfot3",
        "outputId": "dc26f336-6723-4154-8c18-773741dd41ce"
      },
      "source": [
        "def fact(x) :\n",
        "  result = 1\n",
        "  for i in range(x) :\n",
        "    result*=(i+1)\n",
        "  return result\n",
        "\n",
        "fact(4)    "
      ],
      "execution_count": null,
      "outputs": [
        {
          "output_type": "execute_result",
          "data": {
            "text/plain": [
              "24"
            ]
          },
          "metadata": {},
          "execution_count": 25
        }
      ]
    },
    {
      "cell_type": "code",
      "metadata": {
        "colab": {
          "base_uri": "https://localhost:8080/"
        },
        "id": "0k08cYAmiTog",
        "outputId": "d2f6674b-3e10-4c57-c014-abad6b2339fd"
      },
      "source": [
        "import string\n",
        "print(dir(string))\n",
        "print(string.punctuation)\n",
        "\n",
        "for i in string.punctuation :\n",
        "  if i == \"!\" :\n",
        "    print(i*3)"
      ],
      "execution_count": null,
      "outputs": [
        {
          "output_type": "stream",
          "name": "stdout",
          "text": [
            "['Formatter', 'Template', '_ChainMap', '_TemplateMetaclass', '__all__', '__builtins__', '__cached__', '__doc__', '__file__', '__loader__', '__name__', '__package__', '__spec__', '_re', '_string', 'ascii_letters', 'ascii_lowercase', 'ascii_uppercase', 'capwords', 'digits', 'hexdigits', 'octdigits', 'printable', 'punctuation', 'whitespace']\n",
            "!\"#$%&'()*+,-./:;<=>?@[\\]^_`{|}~\n",
            "!!!\n"
          ]
        }
      ]
    },
    {
      "cell_type": "code",
      "metadata": {
        "colab": {
          "base_uri": "https://localhost:8080/"
        },
        "id": "WGIpEr33jXB-",
        "outputId": "6745efa1-7f8f-48f4-a5ff-2c95b09f2f49"
      },
      "source": [
        "import datetime\n",
        "print(datetime.date.today())\n",
        "print(datetime.datetime.now())"
      ],
      "execution_count": null,
      "outputs": [
        {
          "output_type": "stream",
          "name": "stdout",
          "text": [
            "2021-09-02\n",
            "2021-09-02 13:04:19.920504\n"
          ]
        }
      ]
    },
    {
      "cell_type": "code",
      "metadata": {
        "colab": {
          "base_uri": "https://localhost:8080/"
        },
        "id": "_ClcZj4UnECC",
        "outputId": "66cc1b3e-333a-433c-c652-55e174819bb2"
      },
      "source": [
        "from random import choice\n",
        "\n",
        "city = ['Stockholm', 'Istanbul', 'Seul', 'Cape Town']\n",
        "print(choice(city))  "
      ],
      "execution_count": null,
      "outputs": [
        {
          "output_type": "stream",
          "name": "stdout",
          "text": [
            "Stockholm\n"
          ]
        }
      ]
    },
    {
      "cell_type": "code",
      "metadata": {
        "colab": {
          "base_uri": "https://localhost:8080/"
        },
        "id": "uwnglREHoMT7",
        "outputId": "b490b98b-84b1-42c5-fe91-5f103ec7d7b5"
      },
      "source": [
        "def modular_function(n) :\n",
        "  return lambda x: x**n\n",
        "a = modular_function(2)\n",
        "print(a(3))\n"
      ],
      "execution_count": null,
      "outputs": [
        {
          "output_type": "stream",
          "name": "stdout",
          "text": [
            "9\n"
          ]
        }
      ]
    },
    {
      "cell_type": "code",
      "metadata": {
        "colab": {
          "base_uri": "https://localhost:8080/"
        },
        "id": "6aiKJJeX4OSD",
        "outputId": "a16067e6-ae32-41ba-ace4-679a41355959"
      },
      "source": [
        "def rep_string(n) :\n",
        "  return lambda x : x*n\n",
        "repeater = rep_string(3)\n",
        "print(repeater(\"mesut\"+\" \"))"
      ],
      "execution_count": null,
      "outputs": [
        {
          "output_type": "stream",
          "name": "stdout",
          "text": [
            "mesut mesut mesut \n"
          ]
        }
      ]
    },
    {
      "cell_type": "code",
      "metadata": {
        "colab": {
          "base_uri": "https://localhost:8080/"
        },
        "id": "MiY5HhhK4-mD",
        "outputId": "48562bf7-c9fb-4b23-a20c-8f3adff3ed13"
      },
      "source": [
        "print((\"mesut\"+\" \")*3)"
      ],
      "execution_count": null,
      "outputs": [
        {
          "output_type": "stream",
          "name": "stdout",
          "text": [
            "mesut mesut mesut \n"
          ]
        }
      ]
    },
    {
      "cell_type": "code",
      "metadata": {
        "colab": {
          "base_uri": "https://localhost:8080/"
        },
        "id": "mp1eGRYl4-nk",
        "outputId": "759cdb96-c57c-46fd-f271-4a62f8212db1"
      },
      "source": [
        "def functioner(n) :\n",
        "  return lambda x : x+n\n",
        "myprint_smile = functioner(\":)\")\n",
        "myprint_sad = functioner(\":(\")\n",
        "myprint_neutral = functioner(\"hello\")\n",
        "print(myprint_smile(\"hello\"))\n",
        "print(myprint_sad(\"hello\"))\n",
        "print(myprint_neutral(\":|\"))\n"
      ],
      "execution_count": null,
      "outputs": [
        {
          "output_type": "stream",
          "name": "stdout",
          "text": [
            "hello:)\n",
            "hello:(\n",
            ":|hello\n"
          ]
        }
      ]
    },
    {
      "cell_type": "code",
      "metadata": {
        "colab": {
          "base_uri": "https://localhost:8080/"
        },
        "id": "IPy7-CbI8Bnk",
        "outputId": "e65376e1-21a5-4c0a-a0b7-3bb57a8fb900"
      },
      "source": [
        "def emoji(emoji) :\n",
        "  return lambda message : print(message, emoji)\n",
        "definition = emoji(\":)\")\n",
        "print(definition(\"hello\"))  "
      ],
      "execution_count": null,
      "outputs": [
        {
          "output_type": "stream",
          "name": "stdout",
          "text": [
            "hello :)\n",
            "None\n"
          ]
        }
      ]
    },
    {
      "cell_type": "code",
      "metadata": {
        "colab": {
          "base_uri": "https://localhost:8080/"
        },
        "id": "tJyDAWrB-uOy",
        "outputId": "da14fbe5-efa3-47f6-e9ad-5777aee54302"
      },
      "source": [
        "def x() :\n",
        "  return 1, 2, 3, 4\n",
        "a, b, c, d = x()\n",
        "print(a)\n",
        "print(b)\n",
        "print(d)\n",
        "empty_list = [] \n",
        "for i in x() :\n",
        "  empty_list.append(i)\n",
        "print(empty_list)"
      ],
      "execution_count": null,
      "outputs": [
        {
          "output_type": "stream",
          "name": "stdout",
          "text": [
            "1\n",
            "2\n",
            "4\n",
            "[1, 2, 3, 4]\n"
          ]
        }
      ]
    },
    {
      "cell_type": "code",
      "metadata": {
        "colab": {
          "base_uri": "https://localhost:8080/"
        },
        "id": "f0e11bWf_JKm",
        "outputId": "90f21e7b-dbd3-4850-d053-a828fb9def45"
      },
      "source": [
        "num = [1,4,4]\n",
        "max(num, key = num.count)"
      ],
      "execution_count": null,
      "outputs": [
        {
          "output_type": "execute_result",
          "data": {
            "text/plain": [
              "4"
            ]
          },
          "metadata": {},
          "execution_count": 74
        }
      ]
    },
    {
      "cell_type": "code",
      "metadata": {
        "colab": {
          "base_uri": "https://localhost:8080/"
        },
        "id": "-fobfVMeCipM",
        "outputId": "5b44cc85-13d9-4915-d8eb-7770fe47cc90"
      },
      "source": [
        "def equal(a,b,c) :\n",
        "  number = [a, b, c]\n",
        "  most_frequant = number.count(max(number, key=number.count))\n",
        "  return most_frequant\n",
        "\n",
        "equal(1,2,2)"
      ],
      "execution_count": null,
      "outputs": [
        {
          "output_type": "execute_result",
          "data": {
            "text/plain": [
              "2"
            ]
          },
          "metadata": {},
          "execution_count": 81
        }
      ]
    },
    {
      "cell_type": "code",
      "metadata": {
        "colab": {
          "base_uri": "https://localhost:8080/"
        },
        "id": "MlQepVNbFYHp",
        "outputId": "149da261-1203-4c79-9d88-a179418ab509"
      },
      "source": [
        "def equal(*arg) :\n",
        "  number = list(arg)\n",
        "  most_frequant = number.count(max(number, key=number.count))\n",
        "  return most_frequant\n",
        "\n",
        "equal(1,2,2,4,4,8,8,8)"
      ],
      "execution_count": null,
      "outputs": [
        {
          "output_type": "execute_result",
          "data": {
            "text/plain": [
              "3"
            ]
          },
          "metadata": {},
          "execution_count": 83
        }
      ]
    },
    {
      "cell_type": "code",
      "metadata": {
        "colab": {
          "base_uri": "https://localhost:8080/"
        },
        "id": "6ZAKivR0FvTX",
        "outputId": "d73b6b5d-6187-4497-8f97-886343a4badb"
      },
      "source": [
        "equalambda = lambda *x : list(x).count(max(list(x), key = list(x).count))\n",
        "equalambda(1,4,4)"
      ],
      "execution_count": null,
      "outputs": [
        {
          "output_type": "execute_result",
          "data": {
            "text/plain": [
              "2"
            ]
          },
          "metadata": {},
          "execution_count": 91
        }
      ]
    },
    {
      "cell_type": "code",
      "metadata": {
        "colab": {
          "base_uri": "https://localhost:8080/"
        },
        "id": "4YKgiunbK0OE",
        "outputId": "46f44e3d-3c31-4283-ddf3-60b8deeb502e"
      },
      "source": [
        "def function_generator(y):\n",
        "  return lambda x : y(x)\n",
        "myPrint = function_generator(print)\n",
        "myMax = function_generator(max)\n",
        "myMax([1,2,3]) \n",
        "myPrint(4)"
      ],
      "execution_count": null,
      "outputs": [
        {
          "output_type": "stream",
          "name": "stdout",
          "text": [
            "4\n"
          ]
        }
      ]
    },
    {
      "cell_type": "code",
      "metadata": {
        "colab": {
          "base_uri": "https://localhost:8080/"
        },
        "id": "PTYTSsUIY-xX",
        "outputId": "fdb60521-5610-410c-fad1-483bba677095"
      },
      "source": [
        "from math import pi, factorial, log10\n",
        "factorial(4)\n",
        "log10(1000)\n",
        "pi\n"
      ],
      "execution_count": null,
      "outputs": [
        {
          "output_type": "execute_result",
          "data": {
            "text/plain": [
              "3.141592653589793"
            ]
          },
          "metadata": {},
          "execution_count": 16
        }
      ]
    },
    {
      "cell_type": "code",
      "metadata": {
        "colab": {
          "base_uri": "https://localhost:8080/"
        },
        "id": "ezciUFfAfxFV",
        "outputId": "8734f7a6-1622-4ab8-c878-9025c5c5b39a"
      },
      "source": [
        "import math\n",
        "print(math.factorial(4))"
      ],
      "execution_count": null,
      "outputs": [
        {
          "output_type": "stream",
          "name": "stdout",
          "text": [
            "24\n"
          ]
        }
      ]
    },
    {
      "cell_type": "code",
      "metadata": {
        "colab": {
          "base_uri": "https://localhost:8080/"
        },
        "id": "VxfHaGEngoED",
        "outputId": "5779a815-2a01-41fe-af7b-286df8fbede7"
      },
      "source": [
        "import datetime\n",
        "birth = datetime.date(571, 4, 22)\n",
        "death = datetime.date(632, 6, 8)\n",
        "datetime.date.toordinal(death) - datetime.date.toordinal(birth)"
      ],
      "execution_count": null,
      "outputs": [
        {
          "output_type": "execute_result",
          "data": {
            "text/plain": [
              "22327"
            ]
          },
          "metadata": {},
          "execution_count": 21
        }
      ]
    },
    {
      "cell_type": "code",
      "metadata": {
        "colab": {
          "base_uri": "https://localhost:8080/"
        },
        "id": "tZ8czKwDlQ56",
        "outputId": "e8d28580-74f6-4d5b-b18b-1f2b8e95a421"
      },
      "source": [
        "import random\n",
        "chr(random.randint(65, 90))\n",
        "uppers = [chr(random.randint(65, 90)) for i in range(3)]\n",
        "lowers = [chr(random.randint(97, 122)) for i in range(3)]\n",
        "numbers = [chr(random.randint(48, 57)) for i in range(3)]\n",
        "chars = chr(random.randint(33, 47)) + chr(random.randint(58, 64))\n",
        "passaword = \"\".join(uppers) + \"\".join(lowers) + \"\".join(numbers) + \"\".join(chars)\n",
        "print(passaword)\n",
        "\n",
        "def shuffleit(string) :\n",
        "  templist = list(string)\n",
        "  random.shuffle(templist)\n",
        "  return \"\".join(templist)\n",
        "passw = shuffleit(passaword)\n",
        "print(passw)  "
      ],
      "execution_count": null,
      "outputs": [
        {
          "output_type": "stream",
          "name": "stdout",
          "text": [
            "DNWunr227!?\n",
            "722!uNrn?DW\n"
          ]
        }
      ]
    },
    {
      "cell_type": "code",
      "metadata": {
        "colab": {
          "base_uri": "https://localhost:8080/"
        },
        "id": "mfqTkM_huT5G",
        "outputId": "922a8193-bccd-47f5-e039-df99474db7b2"
      },
      "source": [
        "str1 = \"hello\"\n",
        "print(str1[-1:])\n"
      ],
      "execution_count": null,
      "outputs": [
        {
          "output_type": "stream",
          "name": "stdout",
          "text": [
            "o\n"
          ]
        }
      ]
    },
    {
      "cell_type": "code",
      "metadata": {
        "colab": {
          "base_uri": "https://localhost:8080/"
        },
        "id": "4s8mfkV5xbTv",
        "outputId": "8415da27-acd0-4d8b-f078-3688daeaa01e"
      },
      "source": [
        "for i in range(100) :\n",
        "  if len(str(i)) == 1:\n",
        "    if i % 3 == 0 :\n",
        "      print(\"Fizz\")\n",
        "    elif i % 5 == 0 :\n",
        "      print(\"Buzz\")\n",
        "  elif i % 15 == 0:\n",
        "     print(\"FizzBuzz\")   \n",
        "  else :\n",
        "    if (i % 3 == 0) and (i % 5 != 0):\n",
        "      print(\"Fizz\")\n",
        "    elif (i % 5 == 0) and (i % 3 != 0):\n",
        "      print(\"Buzz\")\n",
        "    \n",
        "     \n",
        "\n",
        "  "
      ],
      "execution_count": null,
      "outputs": [
        {
          "output_type": "stream",
          "name": "stdout",
          "text": [
            "Fizz\n",
            "Fizz\n",
            "Buzz\n",
            "Fizz\n",
            "Fizz\n",
            "Buzz\n",
            "Fizz\n",
            "FizzBuzz\n",
            "Fizz\n",
            "Buzz\n",
            "Fizz\n",
            "Fizz\n",
            "Buzz\n",
            "Fizz\n",
            "FizzBuzz\n",
            "Fizz\n",
            "Buzz\n",
            "Fizz\n",
            "Fizz\n",
            "Buzz\n",
            "Fizz\n",
            "FizzBuzz\n",
            "Fizz\n",
            "Buzz\n",
            "Fizz\n",
            "Fizz\n",
            "Buzz\n",
            "Fizz\n",
            "FizzBuzz\n",
            "Fizz\n",
            "Buzz\n",
            "Fizz\n",
            "Fizz\n",
            "Buzz\n",
            "Fizz\n",
            "FizzBuzz\n",
            "Fizz\n",
            "Buzz\n",
            "Fizz\n",
            "Fizz\n",
            "Buzz\n",
            "Fizz\n",
            "FizzBuzz\n",
            "Fizz\n",
            "Buzz\n",
            "Fizz\n",
            "Fizz\n"
          ]
        }
      ]
    },
    {
      "cell_type": "code",
      "metadata": {
        "colab": {
          "base_uri": "https://localhost:8080/"
        },
        "id": "N6GgOdrf1ngW",
        "outputId": "ac0c48a8-1560-4bb2-9dbe-8e6a1eae1969"
      },
      "source": [
        "{i for i in range(10)}"
      ],
      "execution_count": null,
      "outputs": [
        {
          "output_type": "execute_result",
          "data": {
            "text/plain": [
              "{0, 1, 2, 3, 4, 5, 6, 7, 8, 9}"
            ]
          },
          "metadata": {},
          "execution_count": 6
        }
      ]
    },
    {
      "cell_type": "code",
      "metadata": {
        "colab": {
          "base_uri": "https://localhost:8080/"
        },
        "id": "kvCzdgVfz4Bw",
        "outputId": "750354a6-b142-497c-818e-796ef2fb7b4e"
      },
      "source": [
        "string = \"bugun ayriliktan bir onceki session..\"\n",
        "empty_dict = {}\n",
        "\n",
        "for i in string :\n",
        "  if i in empty_dict :\n",
        "    empty_dict[i] += 1\n",
        "  else :\n",
        "    empty_dict[i] = 1\n",
        "print(empty_dict)    \n"
      ],
      "execution_count": null,
      "outputs": [
        {
          "output_type": "stream",
          "name": "stdout",
          "text": [
            "{'b': 2, 'u': 2, 'g': 1, 'n': 4, ' ': 4, 'a': 2, 'y': 1, 'r': 2, 'i': 5, 'l': 1, 'k': 2, 't': 1, 'o': 2, 'c': 1, 'e': 2, 's': 3, '.': 2}\n"
          ]
        }
      ]
    }
  ]
}